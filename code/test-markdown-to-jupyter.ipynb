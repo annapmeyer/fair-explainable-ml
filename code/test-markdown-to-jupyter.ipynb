{
 "cells": [
  {
   "cell_type": "markdown",
   "id": "5bbdc527",
   "metadata": {},
   "source": [
    "# Monitor the training process"
   ]
  },
  {
   "cell_type": "markdown",
   "id": "516e4b50",
   "metadata": {},
   "source": [
    "\n"
   ]
  },
  {
   "cell_type": "markdown",
   "id": "ebd6d935",
   "metadata": {},
   "source": [
    "### Questions\n",
    "- How do I create a neural network for a regression task?\n",
    "- How does optimization work?\n",
    "- How do I monitor the training process?\n",
    "- How do I detect (and avoid) overfitting?\n",
    "- What are common options to improve the model performance?"
   ]
  },
  {
   "cell_type": "markdown",
   "id": "d6a8a76f",
   "metadata": {},
   "source": []
  },
  {
   "cell_type": "markdown",
   "id": "fb99e6df",
   "metadata": {},
   "source": [
    "### Objectives\n",
    "- Explain the importance of keeping your test set clean, by validating on the validation set instead of the test set\n",
    "- Use the data splits to plot the training process\n",
    "- Explain how optimization works\n",
    "- Design a neural network for a regression task\n",
    "- Measure the performance of your deep neural network\n",
    "- Interpret the training plots to recognize overfitting\n",
    "- Use normalization as preparation step for Deep Learning\n",
    "- Implement basic strategies to prevent overfitting"
   ]
  },
  {
   "cell_type": "markdown",
   "id": "512657ab",
   "metadata": {},
   "source": [
    "\n",
    "\n",
    "\n",
    "In this episode we will explore how to monitor the training progress, evaluate our the model predictions and finetune the model to avoid over-fitting. For that we will use a more complicated weather data-set.\n"
   ]
  },
  {
   "cell_type": "markdown",
   "id": "2b7bad11",
   "metadata": {},
   "source": [
    "## 1. Formulate / Outline the problem: weather prediction"
   ]
  },
  {
   "cell_type": "markdown",
   "id": "78a42081",
   "metadata": {},
   "source": [
    "\n",
    "Here we want to work with the *weather prediction dataset* (the light version) which can be\n",
    "[downloaded from Zenodo](https://doi.org/10.5281/zenodo.5071376).\n",
    "It contains daily weather observations from 11 different European cities or places through the\n",
    "years 2000 to 2010. For all locations the data contains the variables ‘mean temperature’, ‘max temperature’, and ‘min temperature’. In addition, for multiple locations, the following variables are provided: 'cloud_cover', 'wind_speed', 'wind_gust', 'humidity', 'pressure', 'global_radiation', 'precipitation', 'sunshine', but not all of them are provided for every location. A more extensive description of the dataset including the different physical units is given in accompanying metadata file. The full dataset comprises of 10 years (3654 days) of collected weather data across Europe.\n",
    "\n",
    "![European locations in the weather prediction dataset](fig/03_weather_prediction_dataset_map.png){alt='18 European locations in the weather prediction dataset'}\n",
    "\n",
    " A very common task with weather data is to make a prediction about the weather sometime in the future, say the next day. In this episode, we will try to predict tomorrow's sunshine hours, a challenging-to-predict feature, using a neural network with the available weather data for one location: BASEL.\n"
   ]
  },
  {
   "cell_type": "markdown",
   "id": "9641f797",
   "metadata": {},
   "source": [
    "## 2. Identify inputs and outputs"
   ]
  },
  {
   "cell_type": "markdown",
   "id": "f087a622",
   "metadata": {},
   "source": []
  },
  {
   "cell_type": "markdown",
   "id": "3d0a9cd8",
   "metadata": {},
   "source": [
    "### Import Dataset"
   ]
  },
  {
   "cell_type": "markdown",
   "id": "77d9f5f8",
   "metadata": {},
   "source": [
    "We will now import and explore the weather data-set:\n"
   ]
  },
  {
   "cell_type": "code",
   "execution_count": null,
   "id": "d7bec27a",
   "metadata": {},
   "outputs": [],
   "source": [
    "import pandas as pd\n",
    "\n",
    "filename_data = \"weather_prediction_dataset_light.csv\"\n",
    "data = pd.read_csv(filename_data)\n",
    "data.head()"
   ]
  },
  {
   "cell_type": "markdown",
   "id": "1b1a033c",
   "metadata": {},
   "source": [
    "\n",
    "| | DATE \t| MONTH | \tBASEL_cloud_cover \t| \tBASEL_humidity \t| \tBASEL_pressure\t| ... |\n",
    "|------:|------:|---------------:|--------------:|------------------:|------------:|------------:|\n",
    "|0| \t20000101 \t|1 \t|8 \t|0.89 \t|1.0286|... |\n",
    "|1| \t20000102 \t|1 \t|8 \t|0.87 \t|1.0318|... |\n",
    "|2| \t20000103 \t|1 \t|5 \t|0.81 \t|1.0314|... |\n",
    "|3| \t20000104 \t|1 \t|7 \t|0.79 \t|1.0262|... |\n",
    "|4| \t20000105 \t|1 \t|5 \t|0.90 \t|1.0246|... |\n",
    "\n"
   ]
  },
  {
   "cell_type": "markdown",
   "id": "44bd4c4f",
   "metadata": {},
   "source": [
    "### Callout"
   ]
  },
  {
   "cell_type": "markdown",
   "id": "e104da35",
   "metadata": {},
   "source": [
    "## Load the data"
   ]
  },
  {
   "cell_type": "markdown",
   "id": "78b8ede9",
   "metadata": {},
   "source": [
    "If you have not downloaded the data yet, you can also load it directly from Zenodo:"
   ]
  },
  {
   "cell_type": "code",
   "execution_count": null,
   "id": "07513af8",
   "metadata": {},
   "outputs": [],
   "source": [
    "data = pd.read_csv(\"https://zenodo.org/record/5071376/files/weather_prediction_dataset_light.csv?download=1\")"
   ]
  },
  {
   "cell_type": "markdown",
   "id": "0dbbf9cd",
   "metadata": {},
   "source": [
    "\n"
   ]
  },
  {
   "cell_type": "markdown",
   "id": "a4ffdd1e",
   "metadata": {},
   "source": [
    "### Brief exploration of the data"
   ]
  },
  {
   "cell_type": "markdown",
   "id": "31dc4810",
   "metadata": {},
   "source": [
    "Let us start with a quick look at the type of features that we find in the data."
   ]
  },
  {
   "cell_type": "code",
   "execution_count": null,
   "id": "6b2b939e",
   "metadata": {},
   "outputs": [],
   "source": [
    "data.columns"
   ]
  },
  {
   "cell_type": "markdown",
   "id": "ca89d361",
   "metadata": {},
   "source": []
  },
  {
   "cell_type": "code",
   "execution_count": null,
   "id": "33db3758",
   "metadata": {},
   "outputs": [],
   "source": [
    "Index(['DATE', 'MONTH', 'BASEL_cloud_cover', 'BASEL_humidity',\n",
    "       'BASEL_pressure', 'BASEL_global_radiation', 'BASEL_precipitation',\n",
    "       'BASEL_sunshine', 'BASEL_temp_mean', 'BASEL_temp_min', 'BASEL_temp_max',\n",
    "        ...\n",
    "       'SONNBLICK_temp_min', 'SONNBLICK_temp_max', 'TOURS_humidity',\n",
    "       'TOURS_pressure', 'TOURS_global_radiation', 'TOURS_precipitation',\n",
    "       'TOURS_temp_mean', 'TOURS_temp_min', 'TOURS_temp_max'],\n",
    "      dtype='object')"
   ]
  },
  {
   "cell_type": "markdown",
   "id": "366a2e6a",
   "metadata": {},
   "source": [
    "There is a total of 9 different measured variables (global_radiation, humidity, etcetera)\n",
    "\n",
    "\n",
    "Let's have a look at the shape of the dataset:"
   ]
  },
  {
   "cell_type": "code",
   "execution_count": null,
   "id": "06627082",
   "metadata": {},
   "outputs": [],
   "source": [
    "data.shape"
   ]
  },
  {
   "cell_type": "code",
   "execution_count": null,
   "id": "bd433f7c",
   "metadata": {},
   "outputs": [],
   "source": [
    "(3654, 91)"
   ]
  },
  {
   "cell_type": "markdown",
   "id": "0bf5fb89",
   "metadata": {},
   "source": [
    "This will give both the number of samples (3654) and the number of features (89 + month +\n",
    "date).\n"
   ]
  },
  {
   "cell_type": "markdown",
   "id": "75150878",
   "metadata": {},
   "source": [
    "## 3. Prepare data"
   ]
  },
  {
   "cell_type": "markdown",
   "id": "bfb67b71",
   "metadata": {},
   "source": []
  },
  {
   "cell_type": "markdown",
   "id": "228c2294",
   "metadata": {},
   "source": [
    "### Select a subset and split into data (X) and labels (y)"
   ]
  },
  {
   "cell_type": "markdown",
   "id": "49333933",
   "metadata": {},
   "source": [
    "The full dataset comprises of 10 years (3654 days) from which we will select only the first 3 years. The present dataset is sorted by \"DATE\", so for each row `i` in the table we can pick a corresponding feature and location from row `i+1` that we later want to predict with our model. As outlined in step 1, we would like to predict the sunshine hours for the location: BASEL.\n"
   ]
  },
  {
   "cell_type": "code",
   "execution_count": null,
   "id": "a8739e19",
   "metadata": {},
   "outputs": [],
   "source": [
    "nr_rows = 365*3 # 3 years\n",
    "# data\n",
    "X_data = data.loc[:nr_rows] # Select first 3 years\n",
    "X_data = X_data.drop(columns=['DATE', 'MONTH']) # Drop date and month column\n",
    "\n",
    "# labels (sunshine hours the next day)\n",
    "y_data = data.loc[1:(nr_rows + 1)][\"BASEL_sunshine\"]"
   ]
  },
  {
   "cell_type": "markdown",
   "id": "4e1b06f1",
   "metadata": {},
   "source": [
    "\n",
    "In general, it is important to check if the data contains any unexpected values such as `9999` or `NaN` or `NoneType`. You can use the pandas `data.describe()` or `data.isnull()` function for this. If so, such values must be removed or replaced.\n",
    "In the present case the data is luckily well prepared and shouldn't contain such values, so that this step can be omitted.\n"
   ]
  },
  {
   "cell_type": "markdown",
   "id": "9d49ee26",
   "metadata": {},
   "source": [
    "### Split data and labels into training, validation, and test set"
   ]
  },
  {
   "cell_type": "markdown",
   "id": "c2cec57f",
   "metadata": {},
   "source": [
    "\n",
    "As with classical machine learning techniques, it is required in deep learning to split off a hold-out *test set* which remains untouched during model training and tuning. It is later used to evaluate the model performance. On top, we will also split off an additional *validation set*, the reason of which will hopefully become clearer later in this lesson.\n",
    "\n",
    "To make our lives a bit easier, we employ a trick to create these 3 datasets, `training set`, `test set` and `validation set`, by calling the `train_test_split` method of `scikit-learn` twice.\n",
    "\n",
    "First we create the training set and leave the remainder of 30 % of the data to the two hold-out sets.\n"
   ]
  },
  {
   "cell_type": "code",
   "execution_count": null,
   "id": "8bdb0d6e",
   "metadata": {},
   "outputs": [],
   "source": [
    "from sklearn.model_selection import train_test_split\n",
    "\n",
    "X_train, X_holdout, y_train, y_holdout = train_test_split(X_data, y_data, test_size=0.3, random_state=0)"
   ]
  },
  {
   "cell_type": "markdown",
   "id": "19bf245a",
   "metadata": {},
   "source": [
    "\n",
    "Now we split the 30 % of the data in two equal sized parts.\n"
   ]
  },
  {
   "cell_type": "code",
   "execution_count": null,
   "id": "5d810c0e",
   "metadata": {},
   "outputs": [],
   "source": [
    "X_val, X_test, y_val, y_test = train_test_split(X_holdout, y_holdout, test_size=0.5, random_state=0)"
   ]
  },
  {
   "cell_type": "markdown",
   "id": "a56772a3",
   "metadata": {},
   "source": [
    "\n",
    "Setting the `random_state` to `0` is a short-hand at this point. Note however, that changing this seed of the pseudo-random number generator will also change the composition of your data sets. For the sake of reproducibility, this is one example of a parameters that should not change at all.\n",
    "\n",
    "\n"
   ]
  },
  {
   "cell_type": "markdown",
   "id": "47ce12c0",
   "metadata": {},
   "source": [
    "## 4. Choose a pretrained model or start building architecture from scratch"
   ]
  },
  {
   "cell_type": "markdown",
   "id": "49aa996c",
   "metadata": {},
   "source": []
  },
  {
   "cell_type": "markdown",
   "id": "462d3cf4",
   "metadata": {},
   "source": [
    "### Regression and classification"
   ]
  },
  {
   "cell_type": "markdown",
   "id": "cd105da7",
   "metadata": {},
   "source": [
    "\n",
    "In episode 2 we trained a dense neural network on a *classification task*. For this one hot encoding was used together with a `Categorical Crossentropy` loss function.\n",
    "This measured how close the distribution of the neural network outputs corresponds to the distribution of the three values in the one hot encoding.\n",
    "Now we want to work on a *regression task*, thus not predicting a class label (or integer number) for a datapoint. In regression, we like to predict one (and sometimes many) values of a feature. This is typically a floating point number.\n"
   ]
  },
  {
   "cell_type": "markdown",
   "id": "227d1154",
   "metadata": {},
   "source": [
    "### Challenge"
   ]
  },
  {
   "cell_type": "markdown",
   "id": "c7b104ec",
   "metadata": {},
   "source": [
    "## Exercise: Architecture of the network"
   ]
  },
  {
   "cell_type": "markdown",
   "id": "70131118",
   "metadata": {},
   "source": [
    "As we want to design a neural network architecture for a regression task,\n",
    "see if you can first come up with the answers to the following questions:\n",
    "\n",
    "1. What must be the dimension of our input layer?\n",
    "2. We want to output the prediction of a single number. The output layer of the NN hence cannot be the same as for the classification task earlier. This is because the `softmax` activation being used had a concrete meaning with respect to the class labels which is not needed here. What output layer design would you choose for regression?\n",
    "Hint: A layer with `relu` activation, with `sigmoid` activation or no activation at all?\n",
    "3. (Optional) How would we change the model if we would like to output a prediction of the precipitation in Basel in *addition* to the sunshine hours?\n"
   ]
  },
  {
   "cell_type": "markdown",
   "id": "2be0e6e3",
   "metadata": {},
   "source": [
    "\n",
    "\n",
    "In our example we want to predict the sunshine hours in Basel (or any other place in the dataset) for tomorrow based on the weather data of all 18 locations today. `BASEL_sunshine` is a floating point value (i.e. `float64`). The network should hence output a single float value which is why the last layer of our network will only consist of a single node.\n",
    "\n",
    "We compose a network of two hidden layers to start off with something. We go by a scheme with 100 neurons in the first hidden layer and 50 neurons in the second layer. As activation function we settle on the `relu` function as a it proved very robust and widely used. To make our live easier later, we wrap the definition of the network in a method called `create_nn`.\n"
   ]
  },
  {
   "cell_type": "code",
   "execution_count": null,
   "id": "1a05c524",
   "metadata": {},
   "outputs": [],
   "source": [
    "from tensorflow import keras\n",
    "\n",
    "def create_nn():\n",
    "    # Input layer\n",
    "    inputs = keras.Input(shape=(X_data.shape[1],), name='input')\n",
    "\n",
    "    # Dense layers\n",
    "    layers_dense = keras.layers.Dense(100, 'relu')(inputs)\n",
    "    layers_dense = keras.layers.Dense(50, 'relu')(layers_dense)\n",
    "\n",
    "    # Output layer\n",
    "    outputs = keras.layers.Dense(1)(layers_dense)\n",
    "\n",
    "    return keras.Model(inputs=inputs, outputs=outputs, name=\"weather_prediction_model\")\n",
    "\n",
    "model = create_nn()"
   ]
  },
  {
   "cell_type": "markdown",
   "id": "9ca0c2d1",
   "metadata": {},
   "source": [
    "\n",
    "The shape of the input layer has to correspond to the number of features in our data: `89`. We use `X_data.shape[1]` to obtain this value dynamically\n",
    "\n",
    "The output layer here is a dense layer with only 1 node. And we here have chosen to use *no activation function*.\n",
    "While we might use *softmax* for a classification task, here we do not want to restrict the possible outcomes for a start.\n",
    "\n",
    "In addition, we have here chosen to write the network creation as a function so that we can use it later again to initiate new models.\n",
    "\n",
    "Let us check how our model looks like by calling the `summary` method.\n"
   ]
  },
  {
   "cell_type": "code",
   "execution_count": null,
   "id": "dbe3b1a5",
   "metadata": {},
   "outputs": [],
   "source": [
    "model.summary()"
   ]
  },
  {
   "cell_type": "code",
   "execution_count": null,
   "id": "f2183e6d",
   "metadata": {},
   "outputs": [],
   "source": [
    "Model: \"weather_prediction_model\"\n",
    "_________________________________________________________________\n",
    "Layer (type)                 Output Shape              Param #\n",
    "=================================================================\n",
    "input (InputLayer)           [(None, 89)]              0\n",
    "_________________________________________________________________\n",
    "dense (Dense)                (None, 100)               9000\n",
    "_________________________________________________________________\n",
    "dense_1 (Dense)              (None, 50)                5050\n",
    "_________________________________________________________________\n",
    "dense_2 (Dense)              (None, 1)                 51\n",
    "=================================================================\n",
    "Total params: 14,101\n",
    "Trainable params: 14,101\n",
    "Non-trainable params: 0"
   ]
  },
  {
   "cell_type": "markdown",
   "id": "a5252e1f",
   "metadata": {},
   "source": [
    "\n",
    "\n",
    "When compiling the model we can define a few very important aspects. We will discuss them now in more detail.\n"
   ]
  },
  {
   "cell_type": "markdown",
   "id": "5973bb4f",
   "metadata": {},
   "source": [
    "## Intermezzo: How do neural networks learn?"
   ]
  },
  {
   "cell_type": "markdown",
   "id": "aa3cc273",
   "metadata": {},
   "source": [
    "In the introduction we learned about the loss function: it quantifies the total error of the predictions made by the model.\n",
    "During model training we aim to find the model parameters that minimize the loss.\n",
    "This is called optimization, but how does optimization actually work?\n"
   ]
  },
  {
   "cell_type": "markdown",
   "id": "fb991ba6",
   "metadata": {},
   "source": [
    "### Gradient descent"
   ]
  },
  {
   "cell_type": "markdown",
   "id": "7f841cd7",
   "metadata": {},
   "source": [
    "Gradient descent is a widely used optimization algorithm, most other optimization algorithms are based on it.\n",
    "It works as follows: Imagine a neural network with only one neuron.\n",
    "Take a look at the figure below. The plot shows the loss as a function of the weight of the neuron.\n",
    "As you can see there is a global loss minimum, we would like to find the weight at this point in the parabola.\n",
    "To do this, we initialize the model weight with some random value. Then we compute the gradient of the loss function with respect\n",
    "to the weight. This tells us how much the loss function will change if we change the weight by a small amount.\n",
    "Then, we update the weight by taking a small step in the direction of the negative gradient, so down the slope.\n",
    "This will slightly decrease the loss. This process is repeated until the loss function reaches a minimum.\n",
    "The size of the step that is taken in each iteration is called the 'learning rate'.\n",
    "\n",
    "![](fig/03_gradient_descent.png){alt='Plot of the loss as a function of the weights. Through gradient descent the global loss minimum is found'}\n"
   ]
  },
  {
   "cell_type": "markdown",
   "id": "17e4b484",
   "metadata": {},
   "source": [
    "### Batch gradient descent"
   ]
  },
  {
   "cell_type": "markdown",
   "id": "b67a11a7",
   "metadata": {},
   "source": [
    "You could use the entire training dataset to perform one learning step in gradient descent,\n",
    "which would mean that one epoch equals one learning step.\n",
    "In practice, in each learning step we only use a subset of the training data to compute the loss and the gradients.\n",
    "This subset is called a 'batch', the number of samples in one batch is called the 'batch size'.\n"
   ]
  },
  {
   "cell_type": "markdown",
   "id": "5f3dc3b1",
   "metadata": {},
   "source": [
    "### Challenge\n"
   ]
  },
  {
   "cell_type": "markdown",
   "id": "2c3c7259",
   "metadata": {},
   "source": [
    "## Exercise: Gradient descent"
   ]
  },
  {
   "cell_type": "markdown",
   "id": "012a51fe",
   "metadata": {},
   "source": [
    "\n",
    "Answer the following questions:\n"
   ]
  },
  {
   "cell_type": "markdown",
   "id": "ca441b3a",
   "metadata": {},
   "source": [
    "### 1. What is the goal of optimization?"
   ]
  },
  {
   "cell_type": "markdown",
   "id": "b38c2964",
   "metadata": {},
   "source": [
    "\n",
    "- A. To find the weights that maximize the loss function\n",
    "- B. To find the weights that minimize the loss function\n"
   ]
  },
  {
   "cell_type": "markdown",
   "id": "3bf907ca",
   "metadata": {},
   "source": [
    "### 2. What happens in one gradient descent step?"
   ]
  },
  {
   "cell_type": "markdown",
   "id": "f0d18dc4",
   "metadata": {},
   "source": [
    "\n",
    "- A. The weights are adjusted so that we move in the direction of the gradient, so up the slope of the loss function\n",
    "- B. The weights are adjusted so that we move in the direction of the gradient, so down the slope of the loss function\n",
    "- C. The weights are adjusted so that we move in the direction of the negative gradient, so up the slope of the loss function\n",
    "- D. The weights are adjusted so that we move in the direction of the negative gradient, so down the slope of the loss function\n"
   ]
  },
  {
   "cell_type": "markdown",
   "id": "5440d066",
   "metadata": {},
   "source": [
    "### 3. When the batch size is increased:"
   ]
  },
  {
   "cell_type": "markdown",
   "id": "e8ca16af",
   "metadata": {},
   "source": [
    "(multiple answers might apply)\n",
    "\n",
    "- A. The number of samples in an epoch also increases\n",
    "- B. The number of batches in an epoch goes down\n",
    "- C. The training progress is more jumpy, because more samples are consulted in each update step (one batch).\n",
    "- D. The memory load (memory as in computer hardware) of the training process is increased\n"
   ]
  },
  {
   "cell_type": "markdown",
   "id": "263029c5",
   "metadata": {},
   "source": []
  },
  {
   "cell_type": "markdown",
   "id": "efc3c5fb",
   "metadata": {},
   "source": [
    "## 5. Choose a loss function and optimizer"
   ]
  },
  {
   "cell_type": "markdown",
   "id": "fc5e454c",
   "metadata": {},
   "source": [
    "### Loss function"
   ]
  },
  {
   "cell_type": "markdown",
   "id": "a34f4f06",
   "metadata": {},
   "source": [
    "The loss is what the neural network will be optimized on during training, so choosing a suitable loss function is crucial for training neural networks.\n",
    "In the given case we want to stimulate that the predicted values are as close as possible to the true values. This is commonly done by using the *mean squared error* (mse) or the *mean absolute error* (mae), both of which should work OK in this case. Often, mse is preferred over mae because it \"punishes\" large prediction errors more severely.\n",
    "In Keras this is implemented in the `keras.losses.MeanSquaredError` class (see Keras documentation: https://keras.io/api/losses/). This can be provided into the `model.compile` method with the `loss` parameter and setting it to `mse`, e.g.\n",
    "\n",
    "<!--cce:skip-->"
   ]
  },
  {
   "cell_type": "code",
   "execution_count": null,
   "id": "d19cd8bc",
   "metadata": {},
   "outputs": [],
   "source": [
    "model.compile(loss='mse')"
   ]
  },
  {
   "cell_type": "markdown",
   "id": "23192d00",
   "metadata": {},
   "source": [
    "\n"
   ]
  },
  {
   "cell_type": "markdown",
   "id": "17db1f13",
   "metadata": {},
   "source": [
    "### Optimizer"
   ]
  },
  {
   "cell_type": "markdown",
   "id": "42525477",
   "metadata": {},
   "source": [
    "\n",
    "Somewhat coupled to the loss function is the *optimizer* that we want to use.\n",
    "The *optimizer* here refers to the algorithm with which the model learns to optimize on the provided loss function. A basic example for such an optimizer would be *stochastic gradient descent*. For now, we can largely skip this step and pick one of the most common optimizers that works well for most tasks: the *Adam optimizer*. Similar to activation functions, the choice of optimizer depends on the problem you are trying to solve, your model architecture and your data. *Adam* is a good starting point though, which is why we chose it.\n",
    "\n",
    "<!--cce:skip-->"
   ]
  },
  {
   "cell_type": "code",
   "execution_count": null,
   "id": "4ca4660f",
   "metadata": {},
   "outputs": [],
   "source": [
    "model.compile(optimizer='adam',\n",
    "              loss='mse')"
   ]
  },
  {
   "cell_type": "markdown",
   "id": "a540665f",
   "metadata": {},
   "source": []
  },
  {
   "cell_type": "markdown",
   "id": "83a803b2",
   "metadata": {},
   "source": [
    "### Metrics"
   ]
  },
  {
   "cell_type": "markdown",
   "id": "42933bab",
   "metadata": {},
   "source": [
    "\n",
    "In our first example (episode 2) we plotted the progression of the loss during training.\n",
    "That is indeed a good first indicator if things are working alright, i.e. if the loss is indeed decreasing as it should with the number of epochs.\n",
    "However, when models become more complicated then also the loss functions often become less intuitive.\n",
    "That is why it is good practice to monitor the training process with additional, more intuitive metrics.\n",
    "They are not used to optimize the model, but are simply recorded during training.\n",
    "With Keras such additional metrics can be added via `metrics=[...]` parameter and can contain one or multiple metrics of interest.\n",
    "Here we could for instance chose to use `'mae'` the mean absolute error, or the the *root mean squared error* (RMSE) which unlike the *mse* has the same units as the predicted values. For the sake of units, we choose the latter.\n"
   ]
  },
  {
   "cell_type": "code",
   "execution_count": null,
   "id": "0b32fe05",
   "metadata": {},
   "outputs": [],
   "source": [
    "model.compile(optimizer='adam',\n",
    "              loss='mse',\n",
    "              metrics=[keras.metrics.RootMeanSquaredError()])"
   ]
  },
  {
   "cell_type": "markdown",
   "id": "0bc0685a",
   "metadata": {},
   "source": [
    "\n",
    "Let's create a `compile_model` function to easily compile the model throughout this lesson:"
   ]
  },
  {
   "cell_type": "code",
   "execution_count": null,
   "id": "ea840de1",
   "metadata": {},
   "outputs": [],
   "source": [
    "def compile_model(model):\n",
    "    model.compile(optimizer='adam',\n",
    "                  loss='mse',\n",
    "                  metrics=[keras.metrics.RootMeanSquaredError()])\n",
    "compile_model(model)"
   ]
  },
  {
   "cell_type": "markdown",
   "id": "39712a04",
   "metadata": {},
   "source": [
    "\n",
    "With this, we complete the compilation of our network and are ready to start training.\n"
   ]
  },
  {
   "cell_type": "markdown",
   "id": "67eaf91e",
   "metadata": {},
   "source": [
    "## 6. Train the model"
   ]
  },
  {
   "cell_type": "markdown",
   "id": "ea5177fe",
   "metadata": {},
   "source": [
    "\n",
    "Now that we created and compiled our dense neural network, we can start training it.\n",
    "One additional concept we need to introduce though, is the `batch_size`.\n",
    "This defines how many samples from the training data will be used to estimate the error gradient before the model weights are updated.\n",
    "Larger batches will produce better, more accurate gradient estimates but also less frequent updates of the weights.\n",
    "Here we are going to use a batch size of 32 which is a common starting point."
   ]
  },
  {
   "cell_type": "code",
   "execution_count": null,
   "id": "68a6567d",
   "metadata": {},
   "outputs": [],
   "source": [
    "history = model.fit(X_train, y_train,\n",
    "                    batch_size=32,\n",
    "                    epochs=200,\n",
    "                    verbose=2)"
   ]
  },
  {
   "cell_type": "markdown",
   "id": "b5e93728",
   "metadata": {},
   "source": [
    "\n",
    "We can plot the training process using the `history` object returned from the model training.\n",
    "We will create a function for it, because we will make use of this more often in this lesson!"
   ]
  },
  {
   "cell_type": "code",
   "execution_count": null,
   "id": "3085440b",
   "metadata": {},
   "outputs": [],
   "source": [
    "import seaborn as sns\n",
    "import matplotlib.pyplot as plt\n",
    "\n",
    "def plot_history(history, metrics):\n",
    "    \"\"\"\n",
    "    Plot the training history\n",
    "\n",
    "    Args:\n",
    "        history (keras History object that is returned by model.fit())\n",
    "        metrics (str, list): Metric or a list of metrics to plot\n",
    "    \"\"\"\n",
    "    history_df = pd.DataFrame.from_dict(history.history)\n",
    "    sns.lineplot(data=history_df[metrics])\n",
    "    plt.xlabel(\"epochs\")\n",
    "    plt.ylabel(\"metric\")\n",
    "\n",
    "plot_history(history, 'root_mean_squared_error')"
   ]
  },
  {
   "cell_type": "markdown",
   "id": "d2c55f58",
   "metadata": {},
   "source": [
    "\n",
    "![](fig/03_training_history_1_rmse.png){alt='Plot of the RMSE over epochs for the trained model that shows a decreasing error metric'}\n",
    "\n",
    "This looks very promising! Our metric (\"RMSE\") is dropping nicely and while it maybe keeps fluctuating a bit it does end up at fairly low *RMSE* values.\n",
    "But the *RMSE* is just the root *mean* squared error, so we might want to look a bit more in detail how well our just trained model does in predicting the sunshine hours.\n"
   ]
  },
  {
   "cell_type": "markdown",
   "id": "c0661ab6",
   "metadata": {},
   "source": [
    "## 7. Perform a Prediction/Classification"
   ]
  },
  {
   "cell_type": "markdown",
   "id": "35a8bbf1",
   "metadata": {},
   "source": [
    "Now that we have our model trained, we can make a prediction with the model before measuring the performance of our neural network.\n"
   ]
  },
  {
   "cell_type": "code",
   "execution_count": null,
   "id": "fde21118",
   "metadata": {},
   "outputs": [],
   "source": [
    "y_train_predicted = model.predict(X_train)\n",
    "y_test_predicted = model.predict(X_test)"
   ]
  },
  {
   "cell_type": "markdown",
   "id": "4b99c3da",
   "metadata": {},
   "source": [
    "\n",
    "\n"
   ]
  },
  {
   "cell_type": "markdown",
   "id": "7d31ef0f",
   "metadata": {},
   "source": [
    "## 8. Measure performance"
   ]
  },
  {
   "cell_type": "markdown",
   "id": "1f353339",
   "metadata": {},
   "source": [
    "\n",
    "There is not a single way to evaluate how a model performs. But there are at least two very common approaches. For a *classification task* that is to compute a *confusion matrix* for the test set which shows how often particular classes were predicted correctly or incorrectly.\n",
    "\n",
    "For the present *regression task*, it makes more sense to compare true and predicted values in a scatter plot.\n",
    "\n",
    "So, let's look at how the predicted sunshine hour have developed with reference to their ground truth values.\n"
   ]
  },
  {
   "cell_type": "code",
   "execution_count": null,
   "id": "9663e0c1",
   "metadata": {},
   "outputs": [],
   "source": [
    "# We define a function that we will reuse in this lesson\n",
    "def plot_predictions(y_pred, y_true, title):\n",
    "    plt.style.use('ggplot')  # optional, that's only to define a visual style\n",
    "    plt.scatter(y_pred, y_true, s=10, alpha=0.5)\n",
    "    plt.xlabel(\"predicted sunshine hours\")\n",
    "    plt.ylabel(\"true sunshine hours\")\n",
    "    plt.title(title)\n",
    "\n",
    "plot_predictions(y_train_predicted, y_train, title='Predictions on the training set')"
   ]
  },
  {
   "cell_type": "markdown",
   "id": "65870dbc",
   "metadata": {},
   "source": [
    "\n",
    "![](fig/03_regression_predictions_trainset.png){alt='Scatter plot between predictions and true sunshine hours in Basel on the train set showing a concise spread'}\n"
   ]
  },
  {
   "cell_type": "code",
   "execution_count": null,
   "id": "1403ef94",
   "metadata": {},
   "outputs": [],
   "source": [
    "plot_predictions(y_test_predicted, y_test, title='Predictions on the test set')"
   ]
  },
  {
   "cell_type": "markdown",
   "id": "c7835802",
   "metadata": {},
   "source": [
    "![](fig/03_regression_predictions_testset.png){alt='Scatter plot between predictions and true sunshine hours in Basel on the test set showing a wide spread'}\n"
   ]
  },
  {
   "cell_type": "markdown",
   "id": "a76a4072",
   "metadata": {},
   "source": [
    "### Challenge"
   ]
  },
  {
   "cell_type": "markdown",
   "id": "242980a6",
   "metadata": {},
   "source": [
    "## Exercise: Reflecting on our results"
   ]
  },
  {
   "cell_type": "markdown",
   "id": "5ef6e61f",
   "metadata": {},
   "source": [
    "* Is the performance of the model as you expected (or better/worse)?\n",
    "* Is there a noteable difference between training set and test set? And if so, any idea why?\n",
    "* (Optional) When developing a model, you will often vary different aspects of your model like\n",
    " which features you use, model parameters and architecture. It is important to settle on a\n",
    " single-number evaluation metric to compare your models.\n",
    "   * What single-number evaluation metric would you choose here and why?\n",
    "   "
   ]
  },
  {
   "cell_type": "markdown",
   "id": "e04a2032",
   "metadata": {},
   "source": [
    "\n",
    "The accuracy on the training set seems fairly good.\n",
    "In fact, considering that the task of predicting the daily sunshine hours is really not easy it might even be surprising how well the model predicts that\n",
    "(at least on the training set). Maybe a little too good?\n",
    "We also see the noticeable difference between train and test set when calculating the exact value of the RMSE:\n"
   ]
  },
  {
   "cell_type": "code",
   "execution_count": null,
   "id": "2ad18419",
   "metadata": {},
   "outputs": [],
   "source": [
    "train_metrics = model.evaluate(X_train, y_train, return_dict=True)\n",
    "test_metrics = model.evaluate(X_test, y_test, return_dict=True)\n",
    "print('Train RMSE: {:.2f}, Test RMSE: {:.2f}'.format(train_metrics['root_mean_squared_error'], test_metrics['root_mean_squared_error']))"
   ]
  },
  {
   "cell_type": "code",
   "execution_count": null,
   "id": "5d060379",
   "metadata": {},
   "outputs": [],
   "source": [
    "24/24 [==============================] - 0s 442us/step - loss: 0.7092 - root_mean_squared_error: 0.8421\n",
    "6/6 [==============================] - 0s 647us/step - loss: 16.4413 - root_mean_squared_error: 4.0548\n",
    "Train RMSE: 0.84, Test RMSE: 4.05"
   ]
  },
  {
   "cell_type": "markdown",
   "id": "c293bb73",
   "metadata": {},
   "source": [
    "\n",
    "For those experienced with (classical) machine learning this might look familiar.\n",
    "The plots above expose the signs of **overfitting** which means that the model has to some extent memorized aspects of the training data.\n",
    "As a result, it makes much more accurate predictions on the training data than on unseen test data.\n",
    "\n",
    "\n",
    "Overfitting also happens in classical machine learning, but there it is usually interpreted as the model having more parameters than the training data would justify (say, a decision tree with too many branches for the number of training instances). As a consequence one would reduce the number of parameters to avoid overfitting.\n",
    "In deep learning the situation is slightly different. It can - as for classical machine learning - also be a sign of having a *too big* model, meaning a model with too many parameters (layers and/or nodes). However, in deep learning higher number of model parameters are often still considered acceptable and models often perform best (in terms of prediction accuracy) when they are at the verge of overfitting. So, in a way, training deep learning models is always a bit like playing with fire...\n"
   ]
  },
  {
   "cell_type": "markdown",
   "id": "2cf51d13",
   "metadata": {},
   "source": [
    "### Set expectations: How difficult is the defined problem?"
   ]
  },
  {
   "cell_type": "markdown",
   "id": "faab878f",
   "metadata": {},
   "source": [
    "\n",
    "Before we dive deeper into handling overfitting and (trying to) improving the model performance, let us ask the question: How well must a model perform before we consider it a good model?\n",
    "\n",
    "Now that we defined a problem (predict tomorrow's sunshine hours), it makes sense to develop an intuition for how difficult the posed problem is. Frequently, models will be evaluated against a so called **baseline**. A baseline can be the current standard in the field or if such a thing does not exist it could also be an intuitive first guess or toy model. The latter is exactly what we would use for our case.\n",
    "\n",
    "Maybe the simplest sunshine hour prediction we can easily do is: Tomorrow we will have the same number of sunshine hours as today.\n",
    "(sounds very naive, but for many observables such as temperature this is already a fairly good predictor)\n",
    "\n",
    "\n",
    "We can take the `BASEL_sunshine` column of our data, because this contains the sunshine hours from one day before what we have as a label."
   ]
  },
  {
   "cell_type": "code",
   "execution_count": null,
   "id": "48ee41b6",
   "metadata": {},
   "outputs": [],
   "source": [
    "y_baseline_prediction = X_test['BASEL_sunshine']\n",
    "plot_predictions(y_baseline_prediction, y_test, title='Baseline predictions on the test set')"
   ]
  },
  {
   "cell_type": "markdown",
   "id": "eed241e2",
   "metadata": {},
   "source": [
    "\n",
    "![](fig/03_regression_test_5_naive_baseline.png){alt=\"Scatter plot of predicted vs true sunshine hours in Basel for the test set where today's sunshine hours is considered as the true sunshine hours for tomorrow\"}\n",
    "\n",
    "It is difficult to interpret from this plot whether our model is doing better than the baseline.\n",
    "We can also have a look at the RMSE:"
   ]
  },
  {
   "cell_type": "code",
   "execution_count": null,
   "id": "1e0421f0",
   "metadata": {},
   "outputs": [],
   "source": [
    "from sklearn.metrics import mean_squared_error\n",
    "rmse_baseline = mean_squared_error(y_test, y_baseline_prediction, squared=False)\n",
    "print('Baseline:', rmse_baseline)\n",
    "print('Neural network: ', test_metrics['root_mean_squared_error'])"
   ]
  },
  {
   "cell_type": "code",
   "execution_count": null,
   "id": "60262ca4",
   "metadata": {},
   "outputs": [],
   "source": [
    "Baseline: 3.877323350410224\n",
    "Neural network:  4.077792167663574"
   ]
  },
  {
   "cell_type": "markdown",
   "id": "988550be",
   "metadata": {},
   "source": [
    "\n",
    "Judging from the numbers alone, our neural network prediction would be performing worse than the baseline.\n"
   ]
  },
  {
   "cell_type": "markdown",
   "id": "a8da4888",
   "metadata": {},
   "source": [
    "### Challenge"
   ]
  },
  {
   "cell_type": "markdown",
   "id": "c3a9872d",
   "metadata": {},
   "source": [
    "## Exercise: Baseline"
   ]
  },
  {
   "cell_type": "markdown",
   "id": "2586b855",
   "metadata": {},
   "source": [
    "1. Looking at this baseline: Would you consider this a simple or a hard problem to solve?\n",
    "2. (Optional) Can you think of other baselines?\n"
   ]
  },
  {
   "cell_type": "markdown",
   "id": "1965ab4a",
   "metadata": {},
   "source": []
  },
  {
   "cell_type": "markdown",
   "id": "265b5e4d",
   "metadata": {},
   "source": [
    "## 9. Refine the model"
   ]
  },
  {
   "cell_type": "markdown",
   "id": "2fe11653",
   "metadata": {},
   "source": []
  },
  {
   "cell_type": "markdown",
   "id": "0ee315cc",
   "metadata": {},
   "source": [
    "### Watch your model training closely"
   ]
  },
  {
   "cell_type": "markdown",
   "id": "1f8c035c",
   "metadata": {},
   "source": [
    "\n",
    "As we saw when comparing the predictions for the training and the test set, deep learning models are prone to overfitting. Instead of iterating through countless cycles of model trainings and subsequent evaluations with a reserved test set, it is common practice to work with a second split off dataset to monitor the model during training.\n",
    "This is the *validation set* which can be regarded as a second test set. As with the test set, the datapoints of the *validation set* are not used for the actual model training itself. Instead, we evaluate the model with the *validation set* after every epoch during training, for instance to stop if we see signs of clear overfitting.\n",
    "Since we are adapting our model (tuning our hyperparameters) based on this validation set, it is *very* important that it is kept separate from the test set. If we used the same set, we would not know whether our model truly generalizes or is only overfitting.\n"
   ]
  },
  {
   "cell_type": "markdown",
   "id": "270f9850",
   "metadata": {},
   "source": [
    "### Callout"
   ]
  },
  {
   "cell_type": "markdown",
   "id": "4ba1c9aa",
   "metadata": {},
   "source": [
    "## Test vs. validation set"
   ]
  },
  {
   "cell_type": "markdown",
   "id": "f2acc5db",
   "metadata": {},
   "source": [
    "Not everybody agrees on the terminology of test set versus validation set. You might find\n",
    "examples in literature where these terms are used the other way around.\n",
    "We are sticking to the definition that is consistent with the Keras API. In there, the validation\n",
    "set can be used during training, and the test set is reserved for afterwards."
   ]
  },
  {
   "cell_type": "markdown",
   "id": "826b46fe",
   "metadata": {},
   "source": [
    "\n",
    "Let's give this a try!\n",
    "\n",
    "We need to initiate a new model -- otherwise Keras will simply assume that we want to continue training the model we already trained above."
   ]
  },
  {
   "cell_type": "code",
   "execution_count": null,
   "id": "14529145",
   "metadata": {},
   "outputs": [],
   "source": [
    "model = create_nn()\n",
    "compile_model(model)"
   ]
  },
  {
   "cell_type": "markdown",
   "id": "488c5632",
   "metadata": {},
   "source": [
    "\n",
    "But now we train it with the small addition of also passing it our validation set:"
   ]
  },
  {
   "cell_type": "code",
   "execution_count": null,
   "id": "8c3517d5",
   "metadata": {},
   "outputs": [],
   "source": [
    "history = model.fit(X_train, y_train,\n",
    "                    batch_size=32,\n",
    "                    epochs=200,\n",
    "                    validation_data=(X_val, y_val))"
   ]
  },
  {
   "cell_type": "markdown",
   "id": "cb125876",
   "metadata": {},
   "source": [
    "\n",
    "With this we can plot both the performance on the training data and on the validation data!\n"
   ]
  },
  {
   "cell_type": "code",
   "execution_count": null,
   "id": "df077ad9",
   "metadata": {},
   "outputs": [],
   "source": [
    "plot_history(history, ['root_mean_squared_error', 'val_root_mean_squared_error'])"
   ]
  },
  {
   "cell_type": "markdown",
   "id": "ee8a920f",
   "metadata": {},
   "source": [
    "\n",
    "![](fig/03_training_history_2_rmse.png){alt='Plot of RMSE vs epochs for the training set and the validation set which depicts a divergence between the two around 10 epochs.'}\n"
   ]
  },
  {
   "cell_type": "markdown",
   "id": "7f2f8636",
   "metadata": {},
   "source": [
    "### Challenge"
   ]
  },
  {
   "cell_type": "markdown",
   "id": "30462d67",
   "metadata": {},
   "source": [
    "## Exercise: plot the training progress."
   ]
  },
  {
   "cell_type": "markdown",
   "id": "f3d5b819",
   "metadata": {},
   "source": [
    "1. Is there a difference between the training curves of training versus validation data? And if so, what would this imply?\n",
    "2. (Optional) Take a pen and paper, draw the perfect training and validation curves.\n",
    "  (This may seem trivial, but it will trigger you to think about what you actually would like to see)\n"
   ]
  },
  {
   "cell_type": "markdown",
   "id": "fab80d11",
   "metadata": {},
   "source": []
  },
  {
   "cell_type": "markdown",
   "id": "5fcd9ec1",
   "metadata": {},
   "source": [
    "### Counteract model overfitting"
   ]
  },
  {
   "cell_type": "markdown",
   "id": "0ee762c2",
   "metadata": {},
   "source": [
    "\n",
    "Overfitting is a very common issue and there are many strategies to handle it.\n",
    "Most similar to classical machine learning might to **reduce the number of parameters**.\n"
   ]
  },
  {
   "cell_type": "markdown",
   "id": "7fe72ad4",
   "metadata": {},
   "source": [
    "### Challenge"
   ]
  },
  {
   "cell_type": "markdown",
   "id": "04af3641",
   "metadata": {},
   "source": [
    "## Exercise: Try to reduce the degree of overfitting by lowering the number of parameters"
   ]
  },
  {
   "cell_type": "markdown",
   "id": "2f9458b5",
   "metadata": {},
   "source": [
    "We can keep the network architecture unchanged (2 dense layers + a one-node output layer) and only play with the number of nodes per layer.\n",
    "Try to lower the number of nodes in one or both of the two dense layers and observe the changes to the training and validation losses.\n",
    "If time is short: Suggestion is to run one network with only 10 and 5 nodes in the first and second layer.\n",
    "\n",
    "1. Is it possible to get rid of overfitting this way?\n",
    "2. Does the overall performance suffer or does it mostly stay the same?\n",
    "3. (optional) How low can you go with the number of parameters without notable effect on the performance on the validation set?\n"
   ]
  },
  {
   "cell_type": "markdown",
   "id": "32281c61",
   "metadata": {},
   "source": [
    "\n",
    "We saw that reducing the number of parameters can be a strategy to avoid overfitting.\n",
    "In practice, however, this is usually not the (main) way to go when it comes to deep learning.\n",
    "One reason is, that finding the sweet spot can be really hard and time consuming. And it has to be repeated every time the model is adapted, e.g. when more training data becomes available.\n"
   ]
  },
  {
   "cell_type": "markdown",
   "id": "f7b7112a",
   "metadata": {},
   "source": [
    "### Early stopping: stop when things are looking best"
   ]
  },
  {
   "cell_type": "markdown",
   "id": "ad3504b8",
   "metadata": {},
   "source": [
    "Arguable **the** most common technique to avoid (severe) overfitting in deep learning is called **early stopping**.\n",
    "As the name suggests, this technique just means that you stop the model training if things do not seem to improve anymore.\n",
    "More specifically, this usually means that the training is stopped if the validation loss does not (notably) improve anymore.\n",
    "Early stopping is both intuitive and effective to use, so it has become a standard addition for model training.\n",
    "\n",
    "To better study the effect, we can now safely go back to models with many (too many?) parameters:"
   ]
  },
  {
   "cell_type": "code",
   "execution_count": null,
   "id": "b8121417",
   "metadata": {},
   "outputs": [],
   "source": [
    "model = create_nn()\n",
    "compile_model(model)"
   ]
  },
  {
   "cell_type": "markdown",
   "id": "4f0f70ed",
   "metadata": {},
   "source": [
    "\n",
    "To apply early stopping during training it is easiest to use Keras `EarlyStopping` class.\n",
    "This allows to define the condition of when to stop training. In our case we will say when the validation loss is lowest.\n",
    "However, since we have seen quiet some fluctuation of the losses during training above we will also set `patience=10` which means that the model will stop training if the validation loss has not gone down for 10 epochs."
   ]
  },
  {
   "cell_type": "code",
   "execution_count": null,
   "id": "55c561ab",
   "metadata": {},
   "outputs": [],
   "source": [
    "from tensorflow.keras.callbacks import EarlyStopping\n",
    "\n",
    "earlystopper = EarlyStopping(\n",
    "    monitor='val_loss',\n",
    "    patience=10\n",
    "    )\n",
    "\n",
    "history = model.fit(X_train, y_train,\n",
    "                    batch_size = 32,\n",
    "                    epochs = 200,\n",
    "                    validation_data=(X_val, y_val),\n",
    "                    callbacks=[earlystopper])"
   ]
  },
  {
   "cell_type": "markdown",
   "id": "fa17fb2a",
   "metadata": {},
   "source": [
    "\n",
    "As before, we can plot the losses during training:"
   ]
  },
  {
   "cell_type": "code",
   "execution_count": null,
   "id": "114cf0eb",
   "metadata": {},
   "outputs": [],
   "source": [
    "plot_history(history, ['root_mean_squared_error', 'val_root_mean_squared_error'])"
   ]
  },
  {
   "cell_type": "markdown",
   "id": "42574a2f",
   "metadata": {},
   "source": [
    "\n",
    "![](fig/03_training_history_3_rmse_early_stopping.png){alt='Plot of RMSE vs epochs for the training set and the validation set displaying similar performance across the two sets.'}\n",
    "\n",
    "This still seems to reveal the onset of overfitting, but the training stops before the discrepancy between training and validation loss can grow further.\n",
    "Despite avoiding severe cases of overfitting, early stopping has the additional advantage that the number of training epochs will be regulated automatically.\n",
    "Instead of comparing training runs for different number of epochs, early stopping allows to simply set the number of epochs to a desired maximum value.\n",
    "\n",
    "What might be a bit unintuitive is that the training runs might now end very rapidly.\n",
    "This might spark the question: have we really reached an optimum yet?\n",
    "And often the answer to this is \"no\", which is why early stopping frequently is combined with other approaches to avoid overfitting.\n",
    "Overfitting means that a model (seemingly) performs better on seen data compared to unseen data. One then often also says that it does not \"generalize\" well.\n",
    "Techniques to avoid overfitting, or to improve model generalization, are termed **regularization techniques** and we will come back to this in **episode 4**.\n",
    "\n"
   ]
  },
  {
   "cell_type": "markdown",
   "id": "606605ca",
   "metadata": {},
   "source": [
    "### BatchNorm: the \"standard scaler\" for deep learning"
   ]
  },
  {
   "cell_type": "markdown",
   "id": "87fc925f",
   "metadata": {},
   "source": [
    "\n",
    "A very common step in classical machine learning pipelines is to scale the features, for instance by using sckit-learn's `StandardScaler`.\n",
    "This can in principle also be done for deep learning.\n",
    "An alternative, more common approach, is to add **BatchNormalization** layers ([documentation of the batch normalization layer](https://keras.io/api/layers/normalization_layers/batch_normalization/)) which will learn how to scale the input values.\n",
    "Similar to dropout, batch normalization is available as a network layer in Keras and can be added to the network in a similar way.\n",
    "It does not require any additional parameter setting.\n",
    "\n",
    "The `BatchNormalization` can be inserted as yet another layer into the architecture.\n"
   ]
  },
  {
   "cell_type": "code",
   "execution_count": null,
   "id": "a60cd6f6",
   "metadata": {},
   "outputs": [],
   "source": [
    "def create_nn():\n",
    "    # Input layer\n",
    "    inputs = keras.layers.Input(shape=(X_data.shape[1],), name='input')\n",
    "\n",
    "    # Dense layers\n",
    "    layers_dense = keras.layers.BatchNormalization()(inputs) # This is new!\n",
    "    layers_dense = keras.layers.Dense(100, 'relu')(layers_dense)\n",
    "    layers_dense = keras.layers.Dense(50, 'relu')(layers_dense)\n",
    "\n",
    "    # Output layer\n",
    "    outputs = keras.layers.Dense(1)(layers_dense)\n",
    "\n",
    "    # Defining the model and compiling it\n",
    "    return keras.Model(inputs=inputs, outputs=outputs, name=\"model_batchnorm\")\n",
    "\n",
    "model = create_nn()\n",
    "compile_model(model)\n",
    "model.summary()"
   ]
  },
  {
   "cell_type": "markdown",
   "id": "fd223daf",
   "metadata": {},
   "source": [
    "\n",
    "This new layer appears in the model summary as well.\n"
   ]
  },
  {
   "cell_type": "code",
   "execution_count": null,
   "id": "f16be055",
   "metadata": {},
   "outputs": [],
   "source": [
    "Model: \"model_batchnorm\"\n",
    "_________________________________________________________________\n",
    "Layer (type)                 Output Shape              Param #\n",
    "=================================================================\n",
    "input_1 (InputLayer)         [(None, 89)]              0\n",
    "_________________________________________________________________\n",
    "batch_normalization (BatchNo (None, 89)                356\n",
    "_________________________________________________________________\n",
    "dense (Dense)             (None, 100)               9000\n",
    "_________________________________________________________________\n",
    "dense_1 (Dense)             (None, 50)                5050\n",
    "_________________________________________________________________\n",
    "dense_2 (Dense)             (None, 1)                 51\n",
    "=================================================================\n",
    "Total params: 14,457\n",
    "Trainable params: 14,279\n",
    "Non-trainable params: 178"
   ]
  },
  {
   "cell_type": "markdown",
   "id": "4d6fd112",
   "metadata": {},
   "source": [
    "\n",
    "We can train the model again as follows:"
   ]
  },
  {
   "cell_type": "code",
   "execution_count": null,
   "id": "567e032e",
   "metadata": {},
   "outputs": [],
   "source": [
    "history = model.fit(X_train, y_train,\n",
    "                    batch_size = 32,\n",
    "                    epochs = 1000,\n",
    "                    validation_data=(X_val, y_val),\n",
    "                    callbacks=[earlystopper])\n",
    "\n",
    "plot_history(history, ['root_mean_squared_error', 'val_root_mean_squared_error'])"
   ]
  },
  {
   "cell_type": "markdown",
   "id": "e6065c51",
   "metadata": {},
   "source": [
    "\n",
    "![](fig/03_training_history_5_rmse_batchnorm.png){alt='Output of plotting sample'}\n"
   ]
  },
  {
   "cell_type": "markdown",
   "id": "79487ad4",
   "metadata": {},
   "source": [
    "### Callout"
   ]
  },
  {
   "cell_type": "markdown",
   "id": "7180f551",
   "metadata": {},
   "source": [
    "## Batchnorm parameters"
   ]
  },
  {
   "cell_type": "markdown",
   "id": "8aed44e7",
   "metadata": {},
   "source": [
    "You may have noticed that the number of parameters of the Batchnorm layers corresponds to\n",
    "4 parameters per input node.\n",
    "These are the moving mean, moving standard deviation, additional scaling factor (gamma) and offset factor (beta).\n",
    "There is a difference in behavior for Batchnorm between training and prediction time.\n",
    "During training time, the data is scaled with the mean and standard deviation of the batch.\n",
    "During prediction time, the moving mean and moving standard deviation of the training set is used instead.\n",
    "The additional parameters gamma and beta are introduced to allow for more flexibility in output values, and are used in both training and prediction."
   ]
  },
  {
   "cell_type": "markdown",
   "id": "c8d903b7",
   "metadata": {},
   "source": []
  },
  {
   "cell_type": "markdown",
   "id": "643d6898",
   "metadata": {},
   "source": [
    "### Run on test set and compare to naive baseline"
   ]
  },
  {
   "cell_type": "markdown",
   "id": "e1d7c389",
   "metadata": {},
   "source": [
    "\n",
    "It seems that no matter what we add, the overall loss does not decrease much further (we at least avoided overfitting though!).\n",
    "Let us again plot the results on the test set:"
   ]
  },
  {
   "cell_type": "code",
   "execution_count": null,
   "id": "8dd3bf28",
   "metadata": {},
   "outputs": [],
   "source": [
    "y_test_predicted = model.predict(X_test)\n",
    "plot_predictions(y_test_predicted, y_test, title='Predictions on the test set')"
   ]
  },
  {
   "cell_type": "markdown",
   "id": "0fef42cd",
   "metadata": {},
   "source": [
    "\n",
    "![](fig/03_regression_test_5_dropout_batchnorm.png){alt='Scatter plot between predictions and true sunshine hours for Basel on the test set'}\n",
    "\n",
    "Well, the above is certainly not perfect. But how good or bad is this? Maybe not good enough to plan your picnic for tomorrow.\n",
    "But let's better compare it to the naive baseline we created in the beginning. What would you say, did we improve on that?\n"
   ]
  },
  {
   "cell_type": "markdown",
   "id": "a4e687bc",
   "metadata": {},
   "source": [
    "### Challenge"
   ]
  },
  {
   "cell_type": "markdown",
   "id": "c0e32b33",
   "metadata": {},
   "source": [
    "## Exercise: Simplify the model and add data"
   ]
  },
  {
   "cell_type": "markdown",
   "id": "465c60c7",
   "metadata": {},
   "source": [
    "You may have been wondering why we are including weather observations from\n",
    "multiple cities to predict sunshine hours only in Basel. The weather is\n",
    "a complex phenomenon with correlations over large distances and time scales,\n",
    "but what happens if we limit ourselves to only one city?\n",
    "\n",
    "1. Since we will be reducing the number of features quite significantly,\n",
    "  we could afford to include more data. Instead of using only 3 years, use\n",
    "  8 or 9 years!\n",
    "2. Only use the features in the dataset that are for Basel, remove the data for other cities.\n",
    "  You can use something like:\n",
    "  ```python\n",
    "  cols = [c for c in X_data.columns if c[:5] == 'BASEL']\n",
    "  X_data = X_data[cols]\n",
    "  ```\n",
    "3. Now rerun the last model we defined which included the BatchNorm layer.\n",
    "  Recreate the scatter plot comparing your predictions with the true values,\n",
    "  and evaluate the model by computing the RMSE on the test score.\n",
    "  Note that even though we will use many more observations than previously,\n",
    "  the network should still train quickly because we reduce the number of\n",
    "  features (columns).\n",
    "  Is the prediction better compared to what we had before?\n",
    "4. (Optional) Try to train a model on all years that are available,\n",
    "  and all features from all cities. How does it perform?\n",
    "  \n",
    "  "
   ]
  },
  {
   "cell_type": "markdown",
   "id": "c1be358c",
   "metadata": {},
   "source": []
  },
  {
   "cell_type": "markdown",
   "id": "465df0a2",
   "metadata": {},
   "source": [
    "### Callout"
   ]
  },
  {
   "cell_type": "markdown",
   "id": "ddce8aac",
   "metadata": {},
   "source": [
    "## Tensorboard"
   ]
  },
  {
   "cell_type": "markdown",
   "id": "6500a500",
   "metadata": {},
   "source": [
    "If we run many different experiments with different architectures,\n",
    "it can be difficult to keep track of these different models or compare the achieved performance.\n",
    "We can use *tensorboard*, a framework that keeps track of our experiments and shows graphs like we plotted above.\n",
    "Tensorboard is included in our tensorflow installation by default.\n",
    "To use it, we first need to add a *callback* to our (compiled) model that saves the progress of training performance in a logs rectory:"
   ]
  },
  {
   "cell_type": "code",
   "execution_count": null,
   "id": "3cd4d340",
   "metadata": {},
   "outputs": [],
   "source": [
    "from tensorflow.keras.callbacks import TensorBoard\n",
    "import datetime\n",
    "log_dir = \"logs/fit/\" + datetime.datetime.now().strftime(\"%Y%m%d-%H%M%S\") # You can adjust this to add a more meaningful model name\n",
    "tensorboard_callback = TensorBoard(log_dir=log_dir, histogram_freq=1)\n",
    "history = model.fit(X_train, y_train,\n",
    "                   batch_size = 32,\n",
    "                   epochs = 200,\n",
    "                   validation_data=(X_val, y_val),\n",
    "                   callbacks=[tensorboard_callback],\n",
    "                   verbose = 2)"
   ]
  },
  {
   "cell_type": "markdown",
   "id": "fed3ae16",
   "metadata": {},
   "source": [
    "You can launch the tensorboard interface from a Jupyter notebook, showing all trained models:\n",
    "<!--cce:skip-->"
   ]
  },
  {
   "cell_type": "code",
   "execution_count": null,
   "id": "9510e3c2",
   "metadata": {},
   "outputs": [],
   "source": [
    "%load_ext tensorboard\n",
    "%tensorboard --logdir logs/fit"
   ]
  },
  {
   "cell_type": "markdown",
   "id": "f9987495",
   "metadata": {},
   "source": [
    "Which will show an interface that looks something like this:\n",
    "![](fig/03_tensorboard.png){alt='Screenshot of tensorboard'}"
   ]
  },
  {
   "cell_type": "markdown",
   "id": "5f9f20ec",
   "metadata": {},
   "source": []
  },
  {
   "cell_type": "markdown",
   "id": "3323c127",
   "metadata": {},
   "source": [
    "## 10. Save model"
   ]
  },
  {
   "cell_type": "markdown",
   "id": "a50d7b78",
   "metadata": {},
   "source": [
    "\n",
    "Now that we have a somewhat acceptable model, let us not forget to save it for future users to benefit from our explorative efforts!\n"
   ]
  },
  {
   "cell_type": "code",
   "execution_count": null,
   "id": "df56c347",
   "metadata": {},
   "outputs": [],
   "source": [
    "model.save('my_tuned_weather_model')"
   ]
  },
  {
   "cell_type": "markdown",
   "id": "6a4e5858",
   "metadata": {},
   "source": []
  },
  {
   "cell_type": "markdown",
   "id": "f0923770",
   "metadata": {},
   "source": [
    "## Outlook"
   ]
  },
  {
   "cell_type": "markdown",
   "id": "22e87a34",
   "metadata": {},
   "source": [
    "Correctly predicting tomorrow's sunshine hours is apparently not that simple.\n",
    "Our models get the general trends right, but still predictions vary quite a bit and can even be far off.\n"
   ]
  },
  {
   "cell_type": "markdown",
   "id": "8100e4c2",
   "metadata": {},
   "source": [
    "### Challenge"
   ]
  },
  {
   "cell_type": "markdown",
   "id": "204b7705",
   "metadata": {},
   "source": [
    "## Open question: What could be next steps to further improve the model?"
   ]
  },
  {
   "cell_type": "markdown",
   "id": "54004243",
   "metadata": {},
   "source": [
    "\n",
    "With unlimited options to modify the model architecture or to play with the training parameters, deep learning can trigger very extensive hunting for better and better results.\n",
    "Usually models are \"well behaving\" in the sense that small changes to the architectures also only result in small changes of the performance (if any).\n",
    "It is often tempting to hunt for some magical settings that will lead to much better results. But do those settings exist?\n",
    "Applying common sense is often a good first step to make a guess of how much better results *could* be.\n",
    "In the present case we might certainly not expect to be able to reliably predict sunshine hours for the next day with 5-10 minute precision.\n",
    "But how much better our model could be exactly, often remains difficult to answer.\n",
    "\n",
    "* What changes to the model architecture might make sense to explore?\n",
    "* Ignoring changes to the model architecture, what might notably improve the prediction quality?\n"
   ]
  },
  {
   "cell_type": "markdown",
   "id": "84a8ed35",
   "metadata": {},
   "source": [
    "\n"
   ]
  },
  {
   "cell_type": "markdown",
   "id": "49e17851",
   "metadata": {},
   "source": [
    "### Keypoints\n",
    "- Separate training, validation, and test sets allows monitoring and evaluating your model.\n",
    "- Batchnormalization scales the data as part of the model."
   ]
  },
  {
   "cell_type": "markdown",
   "id": "b0731a7a",
   "metadata": {},
   "source": []
  }
 ],
 "metadata": {
  "kernelspec": {
   "display_name": "Python 3",
   "language": "python",
   "name": "python3"
  },
  "language_info": {
   "codemirror_mode": {
    "name": "ipython",
    "version": 3
   },
   "file_extension": ".py",
   "mimetype": "text/x-python",
   "name": "python",
   "nbconvert_exporter": "python",
   "pygments_lexer": "ipython3",
   "version": "3.8.8"
  }
 },
 "nbformat": 4,
 "nbformat_minor": 5
}
