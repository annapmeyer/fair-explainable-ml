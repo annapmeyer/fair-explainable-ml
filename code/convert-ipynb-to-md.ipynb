{
 "cells": [
  {
   "cell_type": "code",
   "execution_count": 1,
   "id": "1345e269-9bf9-497e-9ee7-537e813b633e",
   "metadata": {},
   "outputs": [],
   "source": [
    "import nbformat\n",
    "import re\n",
    "\n",
    "def convert_ipynb_to_markdown(input_file, output_file):\n",
    "    with open(input_file, 'r', encoding='utf-8') as f:\n",
    "        nb = nbformat.read(f, as_version=4)\n",
    "    \n",
    "    markdown_lines = []\n",
    "\n",
    "    # Extract metadata\n",
    "    metadata = nb.metadata\n",
    "    if 'title' in metadata:\n",
    "        markdown_lines.append(f\"title: {metadata['title']}\")\n",
    "    if 'teaching' in metadata and 'exercises' in metadata:\n",
    "        markdown_lines.append(f\"teaching: {metadata['teaching']}\")\n",
    "        markdown_lines.append(f\"exercises: {metadata['exercises']}\")\n",
    "    markdown_lines.append(\"---\")\n",
    "\n",
    "    for cell in nb.cells:\n",
    "        cell_type = cell.cell_type\n",
    "        if cell_type == 'markdown':\n",
    "            markdown_lines.extend(process_markdown_cell(cell))\n",
    "        elif cell_type == 'code':\n",
    "            markdown_lines.extend(process_code_cell(cell))\n",
    "\n",
    "    markdown_content = '\\n'.join(markdown_lines)\n",
    "\n",
    "    with open(output_file, 'w', encoding='utf-8') as f:\n",
    "        f.write(markdown_content)\n",
    "\n",
    "def process_markdown_cell(cell):\n",
    "    content = cell.source.split('\\n')\n",
    "    markdown_lines = []\n",
    "\n",
    "    # Extract metadata\n",
    "    objectives = extract_metadata(content, \"objectives\")\n",
    "    if objectives:\n",
    "        markdown_lines.append(\"::::::::::::::::::::::::::::::::::::::: objectives\")\n",
    "        markdown_lines.extend(objectives)\n",
    "        markdown_lines.append(\"::::::::::::::::::::::::::::::::::::::::::::::::::\")\n",
    "\n",
    "    questions = extract_metadata(content, \"questions\")\n",
    "    if questions:\n",
    "        markdown_lines.append(\"::::::::::::::::::::::::::::::::::::::::::::::::::\")\n",
    "        markdown_lines.append(\":::::::::::::::::::::::::::::::::::::::: questions\")\n",
    "        markdown_lines.extend(questions)\n",
    "        markdown_lines.append(\"::::::::::::::::::::::::::::::::::::::::::::::::::\")\n",
    "\n",
    "    markdown_lines.extend(content)  # Include content from markdown cell\n",
    "\n",
    "    callouts = extract_metadata(content, \"callout\")\n",
    "    if callouts:\n",
    "        markdown_lines.append(\":::::::::::::::::::::::::::::::::::::::::  callout\")\n",
    "        markdown_lines.extend(callouts)\n",
    "        markdown_lines.append(\"::::::::::::::::::::::::::::::::::::::::::::::::::\")\n",
    "\n",
    "    challenges = extract_metadata(content, \"challenge\")\n",
    "    if challenges:\n",
    "        markdown_lines.append(\":::::::::::::::::::::::::::::::::::::::  challenge\")\n",
    "        markdown_lines.extend(challenges)\n",
    "        markdown_lines.append(\":::::::::::::::  solution\")\n",
    "        solutions = extract_metadata(content, \"solution\")\n",
    "        markdown_lines.extend(solutions)\n",
    "        markdown_lines.append(\":::::::::::::::::::::::::\")\n",
    "\n",
    "    keypoints = extract_metadata(content, \"keypoints\")\n",
    "    if keypoints:\n",
    "        markdown_lines.append(\":::::::::::::::::::::::::::::::::::::::: keypoints\")\n",
    "        markdown_lines.extend(keypoints)\n",
    "        markdown_lines.append(\"::::::::::::::::::::::::::::::::::::::::::::::::::\")\n",
    "\n",
    "    return markdown_lines\n",
    "\n",
    "def process_code_cell(cell):\n",
    "    code_lines = cell.source.split('\\n')\n",
    "    markdown_lines = []\n",
    "\n",
    "    # Surround code block with ```python``` tags\n",
    "    markdown_lines.append(\"```python\")\n",
    "    markdown_lines.extend(code_lines)\n",
    "    markdown_lines.append(\"```\")\n",
    "\n",
    "    return markdown_lines\n",
    "\n",
    "def extract_metadata(content, metadata_marker):\n",
    "    metadata = []\n",
    "    in_metadata = False\n",
    "\n",
    "    for line in content:\n",
    "        if re.match(f\"^::+ {metadata_marker}\", line):\n",
    "            in_metadata = True\n",
    "        elif in_metadata and re.match(\"^::+:?\", line):\n",
    "            in_metadata = False\n",
    "        elif in_metadata:\n",
    "            metadata.append(line)\n",
    "\n",
    "    return metadata\n",
    "\n"
   ]
  },
  {
   "cell_type": "code",
   "execution_count": 4,
   "id": "11a304a2-b222-4375-9d93-4c8cc814580c",
   "metadata": {},
   "outputs": [
    {
     "data": {
      "text/plain": [
       "'C:\\\\Users\\\\Endemann\\\\Documents\\\\GitHub\\\\fair-explainable-ml\\\\code'"
      ]
     },
     "execution_count": 4,
     "metadata": {},
     "output_type": "execute_result"
    }
   ],
   "source": [
    "pwd"
   ]
  },
  {
   "cell_type": "code",
   "execution_count": 5,
   "id": "736d11bd-31a9-459c-8f22-4be29f17117e",
   "metadata": {},
   "outputs": [],
   "source": [
    "# Example usage\n",
    "input_file = '5b-probes.ipynb'\n",
    "output_file = '../episodes/5c-probes.md'\n",
    "convert_ipynb_to_markdown(input_file, output_file)"
   ]
  },
  {
   "cell_type": "code",
   "execution_count": null,
   "id": "a54101dc-7734-4eac-b3b7-79dd41488446",
   "metadata": {},
   "outputs": [],
   "source": []
  }
 ],
 "metadata": {
  "kernelspec": {
   "display_name": "Python 3",
   "language": "python",
   "name": "python3"
  },
  "language_info": {
   "codemirror_mode": {
    "name": "ipython",
    "version": 3
   },
   "file_extension": ".py",
   "mimetype": "text/x-python",
   "name": "python",
   "nbconvert_exporter": "python",
   "pygments_lexer": "ipython3",
   "version": "3.8.8"
  }
 },
 "nbformat": 4,
 "nbformat_minor": 5
}
